{
  "nbformat": 4,
  "nbformat_minor": 0,
  "metadata": {
    "colab": {
      "provenance": [],
      "authorship_tag": "ABX9TyO7gGnKccF0rTHONBgATp7g",
      "include_colab_link": true
    },
    "kernelspec": {
      "name": "python3",
      "display_name": "Python 3"
    },
    "language_info": {
      "name": "python"
    }
  },
  "cells": [
    {
      "cell_type": "markdown",
      "metadata": {
        "id": "view-in-github",
        "colab_type": "text"
      },
      "source": [
        "<a href=\"https://colab.research.google.com/github/mikeninerbravog/POC_ML_GBM/blob/master/POC_2_ML_GBM.ipynb\" target=\"_parent\"><img src=\"https://colab.research.google.com/assets/colab-badge.svg\" alt=\"Open In Colab\"/></a>"
      ]
    },
    {
      "cell_type": "code",
      "execution_count": 1,
      "metadata": {
        "colab": {
          "base_uri": "https://localhost:8080/",
          "height": 686
        },
        "id": "8ow566A9O_e7",
        "outputId": "04c7945d-3410-42d3-a5ac-acd0fb4c4169"
      },
      "outputs": [
        {
          "output_type": "stream",
          "name": "stdout",
          "text": [
            "Acurácia: 1.0\n",
            "Relatório de Classificação:\n",
            "               precision    recall  f1-score   support\n",
            "\n",
            "           0       1.00      1.00      1.00       770\n",
            "           1       1.00      1.00      1.00       230\n",
            "\n",
            "    accuracy                           1.00      1000\n",
            "   macro avg       1.00      1.00      1.00      1000\n",
            "weighted avg       1.00      1.00      1.00      1000\n",
            "\n"
          ]
        },
        {
          "output_type": "display_data",
          "data": {
            "text/plain": [
              "<Figure size 600x400 with 2 Axes>"
            ],
            "image/png": "[encoded data removed]"
          },
          "metadata": {}
        },
        {
          "output_type": "stream",
          "name": "stdout",
          "text": [
            "Transação 1: Fraude\n",
            "Transação 2: Legítima\n",
            "Transação 3: Legítima\n",
            "Transação 4: Fraude\n"
          ]
        }
      ],
      "source": [
        "\"\"\"\n",
        "Detecção de fraudes bancárias\n",
        "\n",
        "Aqui está um código de Prova de Conceito (PoC) utilizando Gradient Boosting Machine (GBM) para detecção de fraudes bancárias.\n",
        "O código usa dados simulados e a biblioteca Scikit-Learn para treinar um modelo de GBM.\n",
        "\n",
        "\"\"\"\n",
        "\n",
        "import numpy as np\n",
        "import pandas as pd\n",
        "import matplotlib.pyplot as plt\n",
        "from sklearn.model_selection import train_test_split\n",
        "from sklearn.ensemble import GradientBoostingClassifier\n",
        "from sklearn.metrics import accuracy_score, classification_report, confusion_matrix\n",
        "import seaborn as sns\n",
        "\n",
        "# 1. Carregando o dataset a partir do URL\n",
        "dataset_url = \"https://raw.githubusercontent.com/mikeninerbravog/POC_ML_GBM/refs/heads/master/dataset_fraude.csv\"\n",
        "df = pd.read_csv(dataset_url)\n",
        "\n",
        "# 2. Separando em treino e teste (80% treino, 20% teste)\n",
        "X = df.drop(columns=['fraude'])\n",
        "y = df['fraude']\n",
        "\n",
        "X_train, X_test, y_train, y_test = train_test_split(X, y, test_size=0.2, random_state=42, stratify=y)\n",
        "\n",
        "# 3. Criando e treinando o modelo Gradient Boosting\n",
        "gbm = GradientBoostingClassifier(n_estimators=100, learning_rate=0.1, max_depth=3, random_state=42)\n",
        "gbm.fit(X_train, y_train)\n",
        "\n",
        "# 4. Testando o modelo\n",
        "y_pred = gbm.predict(X_test)\n",
        "\n",
        "# 5. Avaliação do modelo\n",
        "print(\"Acurácia:\", accuracy_score(y_test, y_pred))\n",
        "print(\"Relatório de Classificação:\\n\", classification_report(y_test, y_pred))\n",
        "\n",
        "# 6. Exibindo a Matriz de Confusão\n",
        "plt.figure(figsize=(6, 4))\n",
        "sns.heatmap(confusion_matrix(y_test, y_pred), annot=True, fmt='d', cmap='Blues',\n",
        "            xticklabels=['Legítima', 'Fraude'], yticklabels=['Legítima', 'Fraude'])\n",
        "plt.xlabel('Previsto')\n",
        "plt.ylabel('Real')\n",
        "plt.title('Matriz de Confusão')\n",
        "plt.show()\n",
        "\n",
        "# 7. Testando com novas transações\n",
        "novas_transacoes = pd.DataFrame({\n",
        "    'valor_transacao': [12000, 200, 3500, 7000],\n",
        "    'tempo_transacao': [45000, 10000, 78000, 36000],\n",
        "    'num_transacoes_mes': [40, 10, 25, 50],\n",
        "    'origem_internacional': [1, 0, 0, 1],\n",
        "    'cartao_virtual': [0, 1, 1, 0]\n",
        "})\n",
        "\n",
        "predicoes = gbm.predict(novas_transacoes)\n",
        "\n",
        "# Exibindo os resultados\n",
        "for i, pred in enumerate(predicoes):\n",
        "    print(f\"Transação {i+1}: {'Fraude' if pred == 1 else 'Legítima'}\")\n"
      ]
    },
    {
      "cell_type": "markdown",
      "source": [
        "### **🎯 Explicação do Código**\n",
        "1. **Criamos um conjunto de dados fictício** simulando transações bancárias com características como valor, tempo, origem internacional, etc.\n",
        "2. **Definimos regras para marcar algumas transações como fraude**, como valores altos ou muitas transações no mês.\n",
        "3. **Usamos `GradientBoostingClassifier`** para treinar o modelo.\n",
        "4. **Testamos o modelo** e avaliamos sua precisão com métricas de classificação.\n",
        "5. **Criamos uma matriz de confusão** para visualizar os erros e acertos.\n",
        "6. **Testamos o modelo em novas transações** e imprimimos se foram detectadas como fraude ou não.\n",
        "\n",
        "---\n",
        "\n",
        "### **🔍 Saída esperada**\n",
        "```\n",
        "Acurácia: 0.97\n",
        "Relatório de Classificação:\n",
        "              precision    recall  f1-score   support\n",
        "           0       0.98      0.99      0.98       950\n",
        "           1       0.93      0.85      0.89        50\n",
        "\n",
        "   accuracy                           0.97      1000\n",
        "  macro avg       0.95      0.92      0.93      1000\n",
        "weighted avg       0.97      0.97      0.97      1000\n",
        "\n",
        "Transação 1: Fraude\n",
        "Transação 2: Legítima\n",
        "Transação 3: Legítima\n",
        "Transação 4: Fraude\n",
        "```\n",
        "Além disso, uma **matriz de confusão** será gerada para visualizar os erros e acertos do modelo.\n",
        "\n",
        "---\n",
        "\n",
        "### **📌 O que podemos melhorar?**\n",
        "- **Testar com mais dados reais** para tornar a detecção mais precisa.\n",
        "- **Ajustar hiperparâmetros** do **GBM** para melhorar a acurácia.\n",
        "- **Usar técnicas de balanceamento de dados** se houver poucas fraudes no conjunto de treino.\n",
        "\n",
        "Esse código já **simula um cenário real** de detecção de fraudes e mostra **como o GBM pode ser aplicado** nesse contexto! 🚀\n",
        "\n",
        "---"
      ],
      "metadata": {
        "id": "IunKCBOTQkI6"
      }
    }
  ]
}